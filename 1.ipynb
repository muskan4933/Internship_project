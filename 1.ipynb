{
 "cells": [
  {
   "cell_type": "code",
   "execution_count": null,
   "id": "e40d4d20",
   "metadata": {},
   "outputs": [],
   "source": [
    "import pandas as pd\n",
    "import numpy as np\n",
    "import matplotlib.pyplot as plt\n",
    "from sklearn.preprocessing import StandardScaler\n",
    "from sklearn.cluster import KMeans\n"
   ]
  },
  {
   "cell_type": "code",
   "execution_count": 2,
   "id": "94a0f1f3",
   "metadata": {},
   "outputs": [
    {
     "data": {
      "application/vnd.microsoft.datawrangler.viewer.v0+json": {
       "columns": [
        {
         "name": "index",
         "rawType": "int64",
         "type": "integer"
        },
        {
         "name": "index",
         "rawType": "int64",
         "type": "integer"
        },
        {
         "name": "Order ID",
         "rawType": "object",
         "type": "string"
        },
        {
         "name": "Date",
         "rawType": "object",
         "type": "string"
        },
        {
         "name": "Status",
         "rawType": "object",
         "type": "string"
        },
        {
         "name": "Fulfilment",
         "rawType": "object",
         "type": "string"
        },
        {
         "name": "Sales Channel",
         "rawType": "object",
         "type": "string"
        },
        {
         "name": "ship-service-level",
         "rawType": "object",
         "type": "string"
        },
        {
         "name": "Category",
         "rawType": "object",
         "type": "string"
        },
        {
         "name": "Size",
         "rawType": "object",
         "type": "string"
        },
        {
         "name": "Courier Status",
         "rawType": "object",
         "type": "string"
        },
        {
         "name": "Qty",
         "rawType": "int64",
         "type": "integer"
        },
        {
         "name": "currency",
         "rawType": "object",
         "type": "unknown"
        },
        {
         "name": "Amount",
         "rawType": "float64",
         "type": "float"
        },
        {
         "name": "ship-city",
         "rawType": "object",
         "type": "string"
        },
        {
         "name": "ship-state",
         "rawType": "object",
         "type": "string"
        },
        {
         "name": "ship-postal-code",
         "rawType": "float64",
         "type": "float"
        },
        {
         "name": "ship-country",
         "rawType": "object",
         "type": "string"
        },
        {
         "name": "B2B",
         "rawType": "bool",
         "type": "boolean"
        },
        {
         "name": "fulfilled-by",
         "rawType": "object",
         "type": "unknown"
        },
        {
         "name": "New",
         "rawType": "float64",
         "type": "float"
        },
        {
         "name": "PendingS",
         "rawType": "float64",
         "type": "float"
        }
       ],
       "ref": "447269f4-4688-44f0-b5b0-0dde19eabf78",
       "rows": [
        [
         "0",
         "0",
         "405-8078784-5731545",
         "04-30-22",
         "Cancelled",
         "Merchant",
         "Amazon.in",
         "Standard",
         "T-shirt",
         "S",
         "On the Way",
         "0",
         "INR",
         "647.62",
         "MUMBAI",
         "MAHARASHTRA",
         "400081.0",
         "IN",
         "False",
         "Easy Ship",
         null,
         null
        ],
        [
         "1",
         "1",
         "171-9198151-1101146",
         "04-30-22",
         "Shipped - Delivered to Buyer",
         "Merchant",
         "Amazon.in",
         "Standard",
         "Shirt",
         "3XL",
         "Shipped",
         "1",
         "INR",
         "406.0",
         "BENGALURU",
         "KARNATAKA",
         "560085.0",
         "IN",
         "False",
         "Easy Ship",
         null,
         null
        ],
        [
         "2",
         "2",
         "404-0687676-7273146",
         "04-30-22",
         "Shipped",
         "Amazon",
         "Amazon.in",
         "Expedited",
         "Shirt",
         "XL",
         "Shipped",
         "1",
         "INR",
         "329.0",
         "NAVI MUMBAI",
         "MAHARASHTRA",
         "410210.0",
         "IN",
         "True",
         null,
         null,
         null
        ],
        [
         "3",
         "3",
         "403-9615377-8133951",
         "04-30-22",
         "Cancelled",
         "Merchant",
         "Amazon.in",
         "Standard",
         "Blazzer",
         "L",
         "On the Way",
         "0",
         "INR",
         "753.33",
         "PUDUCHERRY",
         "PUDUCHERRY",
         "605008.0",
         "IN",
         "False",
         "Easy Ship",
         null,
         null
        ],
        [
         "4",
         "4",
         "407-1069790-7240320",
         "04-30-22",
         "Shipped",
         "Amazon",
         "Amazon.in",
         "Expedited",
         "Trousers",
         "3XL",
         "Shipped",
         "1",
         "INR",
         "574.0",
         "CHENNAI",
         "TAMIL NADU",
         "600073.0",
         "IN",
         "False",
         null,
         null,
         null
        ],
        [
         "5",
         "5",
         "404-1490984-4578765",
         "04-30-22",
         "Shipped",
         "Amazon",
         "Amazon.in",
         "Expedited",
         "T-shirt",
         "XL",
         "Shipped",
         "1",
         "INR",
         "824.0",
         "GHAZIABAD",
         "UTTAR PRADESH",
         "201102.0",
         "IN",
         "False",
         null,
         null,
         null
        ],
        [
         "6",
         "6",
         "408-5748499-6859555",
         "04-30-22",
         "Shipped",
         "Amazon",
         "Amazon.in",
         "Expedited",
         "T-shirt",
         "L",
         "Shipped",
         "1",
         "INR",
         "653.0",
         "CHANDIGARH",
         "CHANDIGARH",
         "160036.0",
         "IN",
         "False",
         null,
         null,
         null
        ],
        [
         "7",
         "7",
         "406-7807733-3785945",
         "04-30-22",
         "Shipped - Delivered to Buyer",
         "Merchant",
         "Amazon.in",
         "Standard",
         "Shirt",
         "S",
         "Shipped",
         "1",
         "INR",
         "399.0",
         "HYDERABAD",
         "TELANGANA",
         "500032.0",
         "IN",
         "False",
         "Easy Ship",
         null,
         null
        ],
        [
         "8",
         "8",
         "407-5443024-5233168",
         "04-30-22",
         "Cancelled",
         "Amazon",
         "Amazon.in",
         "Expedited",
         "T-shirt",
         "3XL",
         "Cancelled",
         "0",
         null,
         null,
         "HYDERABAD",
         "TELANGANA",
         "500008.0",
         "IN",
         "False",
         null,
         null,
         null
        ],
        [
         "9",
         "9",
         "402-4393761-0311520",
         "04-30-22",
         "Shipped",
         "Amazon",
         "Amazon.in",
         "Expedited",
         "Shirt",
         "XXL",
         "Shipped",
         "1",
         "INR",
         "363.0",
         "Chennai",
         "TAMIL NADU",
         "600041.0",
         "IN",
         "False",
         null,
         null,
         null
        ]
       ],
       "shape": {
        "columns": 21,
        "rows": 10
       }
      },
      "text/html": [
       "<div>\n",
       "<style scoped>\n",
       "    .dataframe tbody tr th:only-of-type {\n",
       "        vertical-align: middle;\n",
       "    }\n",
       "\n",
       "    .dataframe tbody tr th {\n",
       "        vertical-align: top;\n",
       "    }\n",
       "\n",
       "    .dataframe thead th {\n",
       "        text-align: right;\n",
       "    }\n",
       "</style>\n",
       "<table border=\"1\" class=\"dataframe\">\n",
       "  <thead>\n",
       "    <tr style=\"text-align: right;\">\n",
       "      <th></th>\n",
       "      <th>index</th>\n",
       "      <th>Order ID</th>\n",
       "      <th>Date</th>\n",
       "      <th>Status</th>\n",
       "      <th>Fulfilment</th>\n",
       "      <th>Sales Channel</th>\n",
       "      <th>ship-service-level</th>\n",
       "      <th>Category</th>\n",
       "      <th>Size</th>\n",
       "      <th>Courier Status</th>\n",
       "      <th>...</th>\n",
       "      <th>currency</th>\n",
       "      <th>Amount</th>\n",
       "      <th>ship-city</th>\n",
       "      <th>ship-state</th>\n",
       "      <th>ship-postal-code</th>\n",
       "      <th>ship-country</th>\n",
       "      <th>B2B</th>\n",
       "      <th>fulfilled-by</th>\n",
       "      <th>New</th>\n",
       "      <th>PendingS</th>\n",
       "    </tr>\n",
       "  </thead>\n",
       "  <tbody>\n",
       "    <tr>\n",
       "      <th>0</th>\n",
       "      <td>0</td>\n",
       "      <td>405-8078784-5731545</td>\n",
       "      <td>04-30-22</td>\n",
       "      <td>Cancelled</td>\n",
       "      <td>Merchant</td>\n",
       "      <td>Amazon.in</td>\n",
       "      <td>Standard</td>\n",
       "      <td>T-shirt</td>\n",
       "      <td>S</td>\n",
       "      <td>On the Way</td>\n",
       "      <td>...</td>\n",
       "      <td>INR</td>\n",
       "      <td>647.62</td>\n",
       "      <td>MUMBAI</td>\n",
       "      <td>MAHARASHTRA</td>\n",
       "      <td>400081.0</td>\n",
       "      <td>IN</td>\n",
       "      <td>False</td>\n",
       "      <td>Easy Ship</td>\n",
       "      <td>NaN</td>\n",
       "      <td>NaN</td>\n",
       "    </tr>\n",
       "    <tr>\n",
       "      <th>1</th>\n",
       "      <td>1</td>\n",
       "      <td>171-9198151-1101146</td>\n",
       "      <td>04-30-22</td>\n",
       "      <td>Shipped - Delivered to Buyer</td>\n",
       "      <td>Merchant</td>\n",
       "      <td>Amazon.in</td>\n",
       "      <td>Standard</td>\n",
       "      <td>Shirt</td>\n",
       "      <td>3XL</td>\n",
       "      <td>Shipped</td>\n",
       "      <td>...</td>\n",
       "      <td>INR</td>\n",
       "      <td>406.00</td>\n",
       "      <td>BENGALURU</td>\n",
       "      <td>KARNATAKA</td>\n",
       "      <td>560085.0</td>\n",
       "      <td>IN</td>\n",
       "      <td>False</td>\n",
       "      <td>Easy Ship</td>\n",
       "      <td>NaN</td>\n",
       "      <td>NaN</td>\n",
       "    </tr>\n",
       "    <tr>\n",
       "      <th>2</th>\n",
       "      <td>2</td>\n",
       "      <td>404-0687676-7273146</td>\n",
       "      <td>04-30-22</td>\n",
       "      <td>Shipped</td>\n",
       "      <td>Amazon</td>\n",
       "      <td>Amazon.in</td>\n",
       "      <td>Expedited</td>\n",
       "      <td>Shirt</td>\n",
       "      <td>XL</td>\n",
       "      <td>Shipped</td>\n",
       "      <td>...</td>\n",
       "      <td>INR</td>\n",
       "      <td>329.00</td>\n",
       "      <td>NAVI MUMBAI</td>\n",
       "      <td>MAHARASHTRA</td>\n",
       "      <td>410210.0</td>\n",
       "      <td>IN</td>\n",
       "      <td>True</td>\n",
       "      <td>NaN</td>\n",
       "      <td>NaN</td>\n",
       "      <td>NaN</td>\n",
       "    </tr>\n",
       "    <tr>\n",
       "      <th>3</th>\n",
       "      <td>3</td>\n",
       "      <td>403-9615377-8133951</td>\n",
       "      <td>04-30-22</td>\n",
       "      <td>Cancelled</td>\n",
       "      <td>Merchant</td>\n",
       "      <td>Amazon.in</td>\n",
       "      <td>Standard</td>\n",
       "      <td>Blazzer</td>\n",
       "      <td>L</td>\n",
       "      <td>On the Way</td>\n",
       "      <td>...</td>\n",
       "      <td>INR</td>\n",
       "      <td>753.33</td>\n",
       "      <td>PUDUCHERRY</td>\n",
       "      <td>PUDUCHERRY</td>\n",
       "      <td>605008.0</td>\n",
       "      <td>IN</td>\n",
       "      <td>False</td>\n",
       "      <td>Easy Ship</td>\n",
       "      <td>NaN</td>\n",
       "      <td>NaN</td>\n",
       "    </tr>\n",
       "    <tr>\n",
       "      <th>4</th>\n",
       "      <td>4</td>\n",
       "      <td>407-1069790-7240320</td>\n",
       "      <td>04-30-22</td>\n",
       "      <td>Shipped</td>\n",
       "      <td>Amazon</td>\n",
       "      <td>Amazon.in</td>\n",
       "      <td>Expedited</td>\n",
       "      <td>Trousers</td>\n",
       "      <td>3XL</td>\n",
       "      <td>Shipped</td>\n",
       "      <td>...</td>\n",
       "      <td>INR</td>\n",
       "      <td>574.00</td>\n",
       "      <td>CHENNAI</td>\n",
       "      <td>TAMIL NADU</td>\n",
       "      <td>600073.0</td>\n",
       "      <td>IN</td>\n",
       "      <td>False</td>\n",
       "      <td>NaN</td>\n",
       "      <td>NaN</td>\n",
       "      <td>NaN</td>\n",
       "    </tr>\n",
       "    <tr>\n",
       "      <th>5</th>\n",
       "      <td>5</td>\n",
       "      <td>404-1490984-4578765</td>\n",
       "      <td>04-30-22</td>\n",
       "      <td>Shipped</td>\n",
       "      <td>Amazon</td>\n",
       "      <td>Amazon.in</td>\n",
       "      <td>Expedited</td>\n",
       "      <td>T-shirt</td>\n",
       "      <td>XL</td>\n",
       "      <td>Shipped</td>\n",
       "      <td>...</td>\n",
       "      <td>INR</td>\n",
       "      <td>824.00</td>\n",
       "      <td>GHAZIABAD</td>\n",
       "      <td>UTTAR PRADESH</td>\n",
       "      <td>201102.0</td>\n",
       "      <td>IN</td>\n",
       "      <td>False</td>\n",
       "      <td>NaN</td>\n",
       "      <td>NaN</td>\n",
       "      <td>NaN</td>\n",
       "    </tr>\n",
       "    <tr>\n",
       "      <th>6</th>\n",
       "      <td>6</td>\n",
       "      <td>408-5748499-6859555</td>\n",
       "      <td>04-30-22</td>\n",
       "      <td>Shipped</td>\n",
       "      <td>Amazon</td>\n",
       "      <td>Amazon.in</td>\n",
       "      <td>Expedited</td>\n",
       "      <td>T-shirt</td>\n",
       "      <td>L</td>\n",
       "      <td>Shipped</td>\n",
       "      <td>...</td>\n",
       "      <td>INR</td>\n",
       "      <td>653.00</td>\n",
       "      <td>CHANDIGARH</td>\n",
       "      <td>CHANDIGARH</td>\n",
       "      <td>160036.0</td>\n",
       "      <td>IN</td>\n",
       "      <td>False</td>\n",
       "      <td>NaN</td>\n",
       "      <td>NaN</td>\n",
       "      <td>NaN</td>\n",
       "    </tr>\n",
       "    <tr>\n",
       "      <th>7</th>\n",
       "      <td>7</td>\n",
       "      <td>406-7807733-3785945</td>\n",
       "      <td>04-30-22</td>\n",
       "      <td>Shipped - Delivered to Buyer</td>\n",
       "      <td>Merchant</td>\n",
       "      <td>Amazon.in</td>\n",
       "      <td>Standard</td>\n",
       "      <td>Shirt</td>\n",
       "      <td>S</td>\n",
       "      <td>Shipped</td>\n",
       "      <td>...</td>\n",
       "      <td>INR</td>\n",
       "      <td>399.00</td>\n",
       "      <td>HYDERABAD</td>\n",
       "      <td>TELANGANA</td>\n",
       "      <td>500032.0</td>\n",
       "      <td>IN</td>\n",
       "      <td>False</td>\n",
       "      <td>Easy Ship</td>\n",
       "      <td>NaN</td>\n",
       "      <td>NaN</td>\n",
       "    </tr>\n",
       "    <tr>\n",
       "      <th>8</th>\n",
       "      <td>8</td>\n",
       "      <td>407-5443024-5233168</td>\n",
       "      <td>04-30-22</td>\n",
       "      <td>Cancelled</td>\n",
       "      <td>Amazon</td>\n",
       "      <td>Amazon.in</td>\n",
       "      <td>Expedited</td>\n",
       "      <td>T-shirt</td>\n",
       "      <td>3XL</td>\n",
       "      <td>Cancelled</td>\n",
       "      <td>...</td>\n",
       "      <td>NaN</td>\n",
       "      <td>NaN</td>\n",
       "      <td>HYDERABAD</td>\n",
       "      <td>TELANGANA</td>\n",
       "      <td>500008.0</td>\n",
       "      <td>IN</td>\n",
       "      <td>False</td>\n",
       "      <td>NaN</td>\n",
       "      <td>NaN</td>\n",
       "      <td>NaN</td>\n",
       "    </tr>\n",
       "    <tr>\n",
       "      <th>9</th>\n",
       "      <td>9</td>\n",
       "      <td>402-4393761-0311520</td>\n",
       "      <td>04-30-22</td>\n",
       "      <td>Shipped</td>\n",
       "      <td>Amazon</td>\n",
       "      <td>Amazon.in</td>\n",
       "      <td>Expedited</td>\n",
       "      <td>Shirt</td>\n",
       "      <td>XXL</td>\n",
       "      <td>Shipped</td>\n",
       "      <td>...</td>\n",
       "      <td>INR</td>\n",
       "      <td>363.00</td>\n",
       "      <td>Chennai</td>\n",
       "      <td>TAMIL NADU</td>\n",
       "      <td>600041.0</td>\n",
       "      <td>IN</td>\n",
       "      <td>False</td>\n",
       "      <td>NaN</td>\n",
       "      <td>NaN</td>\n",
       "      <td>NaN</td>\n",
       "    </tr>\n",
       "  </tbody>\n",
       "</table>\n",
       "<p>10 rows × 21 columns</p>\n",
       "</div>"
      ],
      "text/plain": [
       "   index             Order ID      Date                        Status  \\\n",
       "0      0  405-8078784-5731545  04-30-22                     Cancelled   \n",
       "1      1  171-9198151-1101146  04-30-22  Shipped - Delivered to Buyer   \n",
       "2      2  404-0687676-7273146  04-30-22                       Shipped   \n",
       "3      3  403-9615377-8133951  04-30-22                     Cancelled   \n",
       "4      4  407-1069790-7240320  04-30-22                       Shipped   \n",
       "5      5  404-1490984-4578765  04-30-22                       Shipped   \n",
       "6      6  408-5748499-6859555  04-30-22                       Shipped   \n",
       "7      7  406-7807733-3785945  04-30-22  Shipped - Delivered to Buyer   \n",
       "8      8  407-5443024-5233168  04-30-22                     Cancelled   \n",
       "9      9  402-4393761-0311520  04-30-22                       Shipped   \n",
       "\n",
       "  Fulfilment Sales Channel ship-service-level  Category Size Courier Status  \\\n",
       "0   Merchant     Amazon.in           Standard   T-shirt    S     On the Way   \n",
       "1   Merchant     Amazon.in           Standard     Shirt  3XL        Shipped   \n",
       "2     Amazon     Amazon.in          Expedited     Shirt   XL        Shipped   \n",
       "3   Merchant     Amazon.in           Standard   Blazzer    L     On the Way   \n",
       "4     Amazon     Amazon.in          Expedited  Trousers  3XL        Shipped   \n",
       "5     Amazon     Amazon.in          Expedited   T-shirt   XL        Shipped   \n",
       "6     Amazon     Amazon.in          Expedited   T-shirt    L        Shipped   \n",
       "7   Merchant     Amazon.in           Standard     Shirt    S        Shipped   \n",
       "8     Amazon     Amazon.in          Expedited   T-shirt  3XL      Cancelled   \n",
       "9     Amazon     Amazon.in          Expedited     Shirt  XXL        Shipped   \n",
       "\n",
       "   ...  currency  Amount    ship-city     ship-state ship-postal-code  \\\n",
       "0  ...       INR  647.62       MUMBAI    MAHARASHTRA         400081.0   \n",
       "1  ...       INR  406.00    BENGALURU      KARNATAKA         560085.0   \n",
       "2  ...       INR  329.00  NAVI MUMBAI    MAHARASHTRA         410210.0   \n",
       "3  ...       INR  753.33   PUDUCHERRY     PUDUCHERRY         605008.0   \n",
       "4  ...       INR  574.00      CHENNAI     TAMIL NADU         600073.0   \n",
       "5  ...       INR  824.00    GHAZIABAD  UTTAR PRADESH         201102.0   \n",
       "6  ...       INR  653.00   CHANDIGARH     CHANDIGARH         160036.0   \n",
       "7  ...       INR  399.00    HYDERABAD      TELANGANA         500032.0   \n",
       "8  ...       NaN     NaN    HYDERABAD      TELANGANA         500008.0   \n",
       "9  ...       INR  363.00      Chennai     TAMIL NADU         600041.0   \n",
       "\n",
       "   ship-country    B2B  fulfilled-by New  PendingS  \n",
       "0            IN  False     Easy Ship NaN       NaN  \n",
       "1            IN  False     Easy Ship NaN       NaN  \n",
       "2            IN   True           NaN NaN       NaN  \n",
       "3            IN  False     Easy Ship NaN       NaN  \n",
       "4            IN  False           NaN NaN       NaN  \n",
       "5            IN  False           NaN NaN       NaN  \n",
       "6            IN  False           NaN NaN       NaN  \n",
       "7            IN  False     Easy Ship NaN       NaN  \n",
       "8            IN  False           NaN NaN       NaN  \n",
       "9            IN  False           NaN NaN       NaN  \n",
       "\n",
       "[10 rows x 21 columns]"
      ]
     },
     "execution_count": 2,
     "metadata": {},
     "output_type": "execute_result"
    }
   ],
   "source": [
    "df = pd.read_csv(r\"c:\\Users\\DELL\\Downloads\\Amazon Sale Report.csv\", low_memory=False) \n",
    "\n",
    "df.head(10)"
   ]
  },
  {
   "cell_type": "code",
   "execution_count": 3,
   "id": "aabfcc7a",
   "metadata": {},
   "outputs": [
    {
     "name": "stdout",
     "output_type": "stream",
     "text": [
      "Missing values before cleaning:\n",
      " index                      0\n",
      "Order ID                   0\n",
      "Date                       0\n",
      "Status                     0\n",
      "Fulfilment                 0\n",
      "Sales Channel              0\n",
      "ship-service-level         0\n",
      "Category                   0\n",
      "Size                       0\n",
      "Courier Status             0\n",
      "Qty                        0\n",
      "currency                7800\n",
      "Amount                  7800\n",
      "ship-city                 35\n",
      "ship-state                35\n",
      "ship-postal-code          35\n",
      "ship-country              35\n",
      "B2B                        0\n",
      "fulfilled-by           89713\n",
      "New                   128976\n",
      "PendingS              128976\n",
      "dtype: int64\n",
      "\n",
      "Missing values after cleaning:\n",
      " index                      0\n",
      "Order ID                   0\n",
      "Date                       0\n",
      "Status                     0\n",
      "Fulfilment                 0\n",
      "Sales Channel              0\n",
      "ship-service-level         0\n",
      "Category                   0\n",
      "Size                       0\n",
      "Courier Status             0\n",
      "Qty                        0\n",
      "currency                   0\n",
      "Amount                  7798\n",
      "ship-city                  0\n",
      "ship-state                 0\n",
      "ship-postal-code           0\n",
      "ship-country               0\n",
      "B2B                        0\n",
      "fulfilled-by               0\n",
      "New                   128941\n",
      "PendingS              128941\n",
      "dtype: int64\n"
     ]
    },
    {
     "name": "stderr",
     "output_type": "stream",
     "text": [
      "C:\\Users\\DELL\\AppData\\Local\\Temp\\ipykernel_2144\\378997917.py:11: FutureWarning: A value is trying to be set on a copy of a DataFrame or Series through chained assignment using an inplace method.\n",
      "The behavior will change in pandas 3.0. This inplace method will never work because the intermediate object on which we are setting values always behaves as a copy.\n",
      "\n",
      "For example, when doing 'df[col].method(value, inplace=True)', try using 'df.method({col: value}, inplace=True)' or df[col] = df[col].method(value) instead, to perform the operation inplace on the original object.\n",
      "\n",
      "\n",
      "  df[\"fulfilled-by\"].fillna(\"Unknown\", inplace=True)\n",
      "C:\\Users\\DELL\\AppData\\Local\\Temp\\ipykernel_2144\\378997917.py:12: FutureWarning: A value is trying to be set on a copy of a DataFrame or Series through chained assignment using an inplace method.\n",
      "The behavior will change in pandas 3.0. This inplace method will never work because the intermediate object on which we are setting values always behaves as a copy.\n",
      "\n",
      "For example, when doing 'df[col].method(value, inplace=True)', try using 'df.method({col: value}, inplace=True)' or df[col] = df[col].method(value) instead, to perform the operation inplace on the original object.\n",
      "\n",
      "\n",
      "  df[\"currency\"].fillna(\"INR\", inplace=True)\n",
      "C:\\Users\\DELL\\AppData\\Local\\Temp\\ipykernel_2144\\378997917.py:13: FutureWarning: A value is trying to be set on a copy of a DataFrame or Series through chained assignment using an inplace method.\n",
      "The behavior will change in pandas 3.0. This inplace method will never work because the intermediate object on which we are setting values always behaves as a copy.\n",
      "\n",
      "For example, when doing 'df[col].method(value, inplace=True)', try using 'df.method({col: value}, inplace=True)' or df[col] = df[col].method(value) instead, to perform the operation inplace on the original object.\n",
      "\n",
      "\n",
      "  df[\"Date\"].fillna(method='ffill', inplace=True)  # forward fill dates\n",
      "C:\\Users\\DELL\\AppData\\Local\\Temp\\ipykernel_2144\\378997917.py:13: FutureWarning: Series.fillna with 'method' is deprecated and will raise in a future version. Use obj.ffill() or obj.bfill() instead.\n",
      "  df[\"Date\"].fillna(method='ffill', inplace=True)  # forward fill dates\n"
     ]
    }
   ],
   "source": [
    "# Replace all forms of missing indicators with NaN\n",
    "df = df.replace([\"Missing value\", \" \", \"\", \"NA\", \"NaN\"], np.nan)\n",
    "\n",
    "# Check missing values\n",
    "print(\"Missing values before cleaning:\\n\", df.isnull().sum())\n",
    "\n",
    "# Drop rows where key fields are missing (e.g., ship-city, ship-state)\n",
    "df = df.dropna(subset=[\"ship-city\", \"ship-state\", \"ship-postal-code\", \"ship-country\"])\n",
    "\n",
    "# Fill remaining missing values in less critical columns\n",
    "df[\"fulfilled-by\"].fillna(\"Unknown\", inplace=True)\n",
    "df[\"currency\"].fillna(\"INR\", inplace=True)\n",
    "df[\"Date\"].fillna(method='ffill', inplace=True)  # forward fill dates\n",
    "\n",
    "print(\"\\nMissing values after cleaning:\\n\", df.isnull().sum())"
   ]
  },
  {
   "cell_type": "code",
   "execution_count": 4,
   "id": "9e9fc3fa",
   "metadata": {},
   "outputs": [],
   "source": [
    "df.columns = (\n",
    "    df.columns.str.strip()\n",
    "    .str.replace(\" \", \"_\")\n",
    "    .str.replace(\"-\", \"_\")\n",
    "    .str.replace(\".\", \"\")\n",
    "    .str.lower()\n",
    ")"
   ]
  },
  {
   "cell_type": "code",
   "execution_count": 6,
   "id": "5b31a238",
   "metadata": {},
   "outputs": [
    {
     "name": "stdout",
     "output_type": "stream",
     "text": [
      "['Maharashtra' 'Karnataka' 'Puducherry' 'Tamil Nadu' 'Uttar Pradesh'\n",
      " 'Chandigarh' 'Telangana' 'Andhra Pradesh' 'Rajasthan' 'Delhi' 'Haryana'\n",
      " 'Assam' 'Jharkhand' 'Chhattisgarh' 'Odisha' 'Kerala' 'Madhya Pradesh'\n",
      " 'West Bengal' 'Nagaland' 'Gujarat' 'Uttarakhand' 'Bihar'\n",
      " 'Jammu & Kashmir' 'Punjab' 'Himachal Pradesh' 'Arunachal Pradesh' 'Goa'\n",
      " 'Meghalaya' 'Manipur' 'Tripura' 'Ladakh' 'Dadra And Nagar' 'Sikkim'\n",
      " 'Andaman & Nicobar' 'Rajshthan' 'Nl' 'Mizoram' 'New Delhi'\n",
      " 'Punjab/Mohali/Zirakpur' 'Rj' 'Orissa' 'Lakshadweep' 'Pb' 'Apo' 'Ar'\n",
      " 'Pondicherry' 'Rajsthan']\n"
     ]
    },
    {
     "name": "stderr",
     "output_type": "stream",
     "text": [
      "C:\\Users\\DELL\\AppData\\Local\\Temp\\ipykernel_2144\\1174192787.py:6: FutureWarning: A value is trying to be set on a copy of a DataFrame or Series through chained assignment using an inplace method.\n",
      "The behavior will change in pandas 3.0. This inplace method will never work because the intermediate object on which we are setting values always behaves as a copy.\n",
      "\n",
      "For example, when doing 'df[col].method(value, inplace=True)', try using 'df.method({col: value}, inplace=True)' or df[col] = df[col].method(value) instead, to perform the operation inplace on the original object.\n",
      "\n",
      "\n",
      "  df[\"ship_city\"].replace({\"Pune\": \"Pune\", \"Bengaluru\": \"Bangalore\"}, inplace=True)\n"
     ]
    }
   ],
   "source": [
    "# Convert all city/state names to title case\n",
    "df[\"ship_city\"] = df[\"ship_city\"].str.title()\n",
    "df[\"ship_state\"] = df[\"ship_state\"].str.title()\n",
    "\n",
    "# Manually fix known inconsistencies if found\n",
    "df[\"ship_city\"].replace({\"Pune\": \"Pune\", \"Bengaluru\": \"Bangalore\"}, inplace=True)\n",
    "print(df[\"ship_state\"].unique())"
   ]
  },
  {
   "cell_type": "code",
   "execution_count": 7,
   "id": "f75ed1ed",
   "metadata": {},
   "outputs": [
    {
     "name": "stderr",
     "output_type": "stream",
     "text": [
      "C:\\Users\\DELL\\AppData\\Local\\Temp\\ipykernel_2144\\3481621114.py:2: UserWarning: Could not infer format, so each element will be parsed individually, falling back to `dateutil`. To ensure parsing is consistent and as-expected, please specify a format.\n",
      "  df[\"date\"] = pd.to_datetime(df[\"date\"], errors=\"coerce\")\n"
     ]
    }
   ],
   "source": [
    "# Convert date\n",
    "df[\"date\"] = pd.to_datetime(df[\"date\"], errors=\"coerce\")\n",
    "\n",
    "# Convert amount to numeric\n",
    "df[\"amount\"] = pd.to_numeric(df[\"amount\"], errors=\"coerce\")\n",
    "\n",
    "# Convert quantity to integer\n",
    "df[\"qty\"] = pd.to_numeric(df[\"qty\"], errors=\"coerce\").astype(\"Int64\")\n"
   ]
  },
  {
   "cell_type": "code",
   "execution_count": 8,
   "id": "1b12ef27",
   "metadata": {},
   "outputs": [
    {
     "name": "stdout",
     "output_type": "stream",
     "text": [
      "Duplicate Orders:\n",
      "          index             order_id       date   status fulfilment  \\\n",
      "37          37  403-4367956-2849158 2022-04-30  Shipped     Amazon   \n",
      "38          38  403-4367956-2849158 2022-04-30  Shipped     Amazon   \n",
      "61          61  404-2262140-4696366 2022-04-30  Shipped     Amazon   \n",
      "62          62  404-2262140-4696366 2022-04-30  Shipped     Amazon   \n",
      "79          79  408-4069830-3819562 2022-04-30  Shipped     Amazon   \n",
      "...        ...                  ...        ...      ...        ...   \n",
      "128931  128930  407-8519205-5064368 2022-05-31  Shipped     Amazon   \n",
      "128942  128941  403-3035549-4142738 2022-05-31  Shipped     Amazon   \n",
      "128943  128942  403-3035549-4142738 2022-05-31  Shipped     Amazon   \n",
      "128953  128952  404-8878574-4524358 2022-05-31  Shipped     Amazon   \n",
      "128954  128953  404-8878574-4524358 2022-05-31  Shipped     Amazon   \n",
      "\n",
      "       sales_channel ship_service_level  category size courier_status  ...  \\\n",
      "37         Amazon.in          Expedited     Shirt    S        Shipped  ...   \n",
      "38         Amazon.in          Expedited     Shirt    S        Shipped  ...   \n",
      "61         Amazon.in          Expedited     Shirt    M        Shipped  ...   \n",
      "62         Amazon.in          Expedited     Shirt    M        Shipped  ...   \n",
      "79         Amazon.in          Expedited   T-shirt  3XL        Shipped  ...   \n",
      "...              ...                ...       ...  ...            ...  ...   \n",
      "128931     Amazon.in          Expedited   T-shirt   XL        Shipped  ...   \n",
      "128942     Amazon.in          Expedited  Trousers  XXL        Shipped  ...   \n",
      "128943     Amazon.in          Expedited  Trousers  XXL        Shipped  ...   \n",
      "128953     Amazon.in          Expedited     Shirt    M        Shipped  ...   \n",
      "128954     Amazon.in          Expedited     Shirt    M        Shipped  ...   \n",
      "\n",
      "        currency amount       ship_city      ship_state ship_postal_code  \\\n",
      "37           INR  487.0       New Delhi           Delhi         110092.0   \n",
      "38           INR  368.0       New Delhi           Delhi         110092.0   \n",
      "61           INR  518.0          Nagpur     Maharashtra         440022.0   \n",
      "62           INR  295.0          Nagpur     Maharashtra         440022.0   \n",
      "79           INR  684.0         Kolkata     West Bengal         700048.0   \n",
      "...          ...    ...             ...             ...              ...   \n",
      "128931       INR  635.0      Vijayawada  Andhra Pradesh         520010.0   \n",
      "128942       INR  529.0       Bangalore       Karnataka         560102.0   \n",
      "128943       INR  518.0       Bangalore       Karnataka         560102.0   \n",
      "128953       INR  301.0  Rishra Hooghly     West Bengal         712249.0   \n",
      "128954       INR  301.0  Rishra Hooghly     West Bengal         712249.0   \n",
      "\n",
      "        ship_country    b2b  fulfilled_by new  pendings  \n",
      "37                IN  False       Unknown NaN       NaN  \n",
      "38                IN  False       Unknown NaN       NaN  \n",
      "61                IN  False       Unknown NaN       NaN  \n",
      "62                IN  False       Unknown NaN       NaN  \n",
      "79                IN  False       Unknown NaN       NaN  \n",
      "...              ...    ...           ...  ..       ...  \n",
      "128931            IN  False       Unknown NaN       NaN  \n",
      "128942            IN  False       Unknown NaN       NaN  \n",
      "128943            IN  False       Unknown NaN       NaN  \n",
      "128953            IN  False       Unknown NaN       NaN  \n",
      "128954            IN  False       Unknown NaN       NaN  \n",
      "\n",
      "[15403 rows x 21 columns]\n"
     ]
    }
   ],
   "source": [
    "# Drop duplicate rows\n",
    "df.drop_duplicates(inplace=True)\n",
    "\n",
    "# Check for duplicate order IDs\n",
    "duplicate_orders = df[df.duplicated(subset=[\"order_id\"], keep=False)]\n",
    "print(\"Duplicate Orders:\\n\", duplicate_orders)\n",
    "\n",
    "# Drop duplicates if you decide they are invalid\n",
    "df.drop_duplicates(subset=[\"order_id\"], inplace=True)"
   ]
  },
  {
   "cell_type": "code",
   "execution_count": 9,
   "id": "820fcb00",
   "metadata": {},
   "outputs": [
    {
     "name": "stdout",
     "output_type": "stream",
     "text": [
      "Data shape after cleaning: (120201, 21)\n",
      "<class 'pandas.core.frame.DataFrame'>\n",
      "Index: 120201 entries, 0 to 128975\n",
      "Data columns (total 21 columns):\n",
      " #   Column              Non-Null Count   Dtype         \n",
      "---  ------              --------------   -----         \n",
      " 0   index               120201 non-null  int64         \n",
      " 1   order_id            120201 non-null  object        \n",
      " 2   date                120201 non-null  datetime64[ns]\n",
      " 3   status              120201 non-null  object        \n",
      " 4   fulfilment          120201 non-null  object        \n",
      " 5   sales_channel       120201 non-null  object        \n",
      " 6   ship_service_level  120201 non-null  object        \n",
      " 7   category            120201 non-null  object        \n",
      " 8   size                120201 non-null  object        \n",
      " 9   courier_status      120201 non-null  object        \n",
      " 10  qty                 120201 non-null  Int64         \n",
      " 11  currency            120201 non-null  object        \n",
      " 12  amount              112808 non-null  float64       \n",
      " 13  ship_city           120201 non-null  object        \n",
      " 14  ship_state          120201 non-null  object        \n",
      " 15  ship_postal_code    120201 non-null  float64       \n",
      " 16  ship_country        120201 non-null  object        \n",
      " 17  b2b                 120201 non-null  bool          \n",
      " 18  fulfilled_by        120201 non-null  object        \n",
      " 19  new                 0 non-null       float64       \n",
      " 20  pendings            0 non-null       float64       \n",
      "dtypes: Int64(1), bool(1), datetime64[ns](1), float64(4), int64(1), object(13)\n",
      "memory usage: 19.5+ MB\n"
     ]
    }
   ],
   "source": [
    "print(\"Data shape after cleaning:\", df.shape)\n",
    "df.info()"
   ]
  },
  {
   "cell_type": "markdown",
   "id": "cda4da76",
   "metadata": {},
   "source": [
    "Sales over view"
   ]
  },
  {
   "cell_type": "code",
   "execution_count": 10,
   "id": "e266e4d4",
   "metadata": {},
   "outputs": [
    {
     "data": {
      "application/vnd.microsoft.datawrangler.viewer.v0+json": {
       "columns": [
        {
         "name": "index",
         "rawType": "object",
         "type": "string"
        },
        {
         "name": "amount",
         "rawType": "float64",
         "type": "float"
        },
        {
         "name": "qty",
         "rawType": "Float64",
         "type": "float"
        }
       ],
       "ref": "ccd68f7b-4b87-4309-89e0-b63d57cf8b5d",
       "rows": [
        [
         "count",
         "112808.0",
         "120201.0"
        ],
        [
         "mean",
         "649.8493978263954",
         "0.9035948120231945"
        ],
        [
         "std",
         "281.4608220719614",
         "0.3130130621118211"
        ],
        [
         "min",
         "0.0",
         "0.0"
        ],
        [
         "25%",
         "449.0",
         "1.0"
        ],
        [
         "50%",
         "612.0",
         "1.0"
        ],
        [
         "75%",
         "788.0",
         "1.0"
        ],
        [
         "max",
         "5495.0",
         "15.0"
        ]
       ],
       "shape": {
        "columns": 2,
        "rows": 8
       }
      },
      "text/html": [
       "<div>\n",
       "<style scoped>\n",
       "    .dataframe tbody tr th:only-of-type {\n",
       "        vertical-align: middle;\n",
       "    }\n",
       "\n",
       "    .dataframe tbody tr th {\n",
       "        vertical-align: top;\n",
       "    }\n",
       "\n",
       "    .dataframe thead th {\n",
       "        text-align: right;\n",
       "    }\n",
       "</style>\n",
       "<table border=\"1\" class=\"dataframe\">\n",
       "  <thead>\n",
       "    <tr style=\"text-align: right;\">\n",
       "      <th></th>\n",
       "      <th>amount</th>\n",
       "      <th>qty</th>\n",
       "    </tr>\n",
       "  </thead>\n",
       "  <tbody>\n",
       "    <tr>\n",
       "      <th>count</th>\n",
       "      <td>112808.000000</td>\n",
       "      <td>120201.0</td>\n",
       "    </tr>\n",
       "    <tr>\n",
       "      <th>mean</th>\n",
       "      <td>649.849398</td>\n",
       "      <td>0.903595</td>\n",
       "    </tr>\n",
       "    <tr>\n",
       "      <th>std</th>\n",
       "      <td>281.460822</td>\n",
       "      <td>0.313013</td>\n",
       "    </tr>\n",
       "    <tr>\n",
       "      <th>min</th>\n",
       "      <td>0.000000</td>\n",
       "      <td>0.0</td>\n",
       "    </tr>\n",
       "    <tr>\n",
       "      <th>25%</th>\n",
       "      <td>449.000000</td>\n",
       "      <td>1.0</td>\n",
       "    </tr>\n",
       "    <tr>\n",
       "      <th>50%</th>\n",
       "      <td>612.000000</td>\n",
       "      <td>1.0</td>\n",
       "    </tr>\n",
       "    <tr>\n",
       "      <th>75%</th>\n",
       "      <td>788.000000</td>\n",
       "      <td>1.0</td>\n",
       "    </tr>\n",
       "    <tr>\n",
       "      <th>max</th>\n",
       "      <td>5495.000000</td>\n",
       "      <td>15.0</td>\n",
       "    </tr>\n",
       "  </tbody>\n",
       "</table>\n",
       "</div>"
      ],
      "text/plain": [
       "              amount       qty\n",
       "count  112808.000000  120201.0\n",
       "mean      649.849398  0.903595\n",
       "std       281.460822  0.313013\n",
       "min         0.000000       0.0\n",
       "25%       449.000000       1.0\n",
       "50%       612.000000       1.0\n",
       "75%       788.000000       1.0\n",
       "max      5495.000000      15.0"
      ]
     },
     "execution_count": 10,
     "metadata": {},
     "output_type": "execute_result"
    }
   ],
   "source": [
    "# Ensure correct types\n",
    "df[\"date\"] = pd.to_datetime(df[\"date\"], errors=\"coerce\")\n",
    "df[\"amount\"] = pd.to_numeric(df[\"amount\"], errors=\"coerce\")\n",
    "df[\"qty\"] = pd.to_numeric(df[\"qty\"], errors=\"coerce\")\n",
    "\n",
    "# Check basic stats\n",
    "df[[\"amount\", \"qty\"]].describe()"
   ]
  },
  {
   "cell_type": "code",
   "execution_count": 13,
   "id": "ab1563a9",
   "metadata": {},
   "outputs": [
    {
     "data": {
      "image/png": "[encoded data removed]",
      "text/plain": [
       "<Figure size 1000x500 with 1 Axes>"
      ]
     },
     "metadata": {},
     "output_type": "display_data"
    }
   ],
   "source": [
    "# Daily sales trend\n",
    "daily_sales = df.groupby(\"date\")[\"amount\"].sum().reset_index()\n",
    "\n",
    "plt.figure(figsize=(10,5))\n",
    "plt.plot(daily_sales[\"date\"], daily_sales[\"amount\"])\n",
    "plt.title(\"Daily Sales Trend\")\n",
    "plt.xlabel(\"Date\")\n",
    "plt.ylabel(\"Revenue (INR)\")\n",
    "plt.grid(True)\n",
    "plt.show()"
   ]
  },
  {
   "cell_type": "code",
   "execution_count": 14,
   "id": "b75494d2",
   "metadata": {},
   "outputs": [
    {
     "data": {
      "image/png": "[encoded data removed]",
      "text/plain": [
       "<Figure size 800x400 with 1 Axes>"
      ]
     },
     "metadata": {},
     "output_type": "display_data"
    }
   ],
   "source": [
    "category_sales = df.groupby(\"category\")[\"amount\"].sum().sort_values(ascending=False)\n",
    "\n",
    "plt.figure(figsize=(8,4))\n",
    "category_sales.plot(kind=\"bar\", color=\"skyblue\")\n",
    "plt.title(\"Top-Selling Categories\")\n",
    "plt.xlabel(\"Category\")\n",
    "plt.ylabel(\"Total Revenue (INR)\")\n",
    "plt.xticks(rotation=45)\n",
    "plt.show()"
   ]
  },
  {
   "cell_type": "code",
   "execution_count": 15,
   "id": "1352fc66",
   "metadata": {},
   "outputs": [
    {
     "data": {
      "image/png": "[encoded data removed]",
      "text/plain": [
       "<Figure size 1000x500 with 1 Axes>"
      ]
     },
     "metadata": {},
     "output_type": "display_data"
    }
   ],
   "source": [
    "comparison = df.groupby(\"category\")[[\"amount\", \"qty\"]].sum().sort_values(by=\"amount\", ascending=False)\n",
    "comparison.plot(kind=\"bar\", figsize=(10,5))\n",
    "plt.title(\"Revenue vs Quantity Sold by Category\")\n",
    "plt.ylabel(\"Total\")\n",
    "plt.xticks(rotation=45)\n",
    "plt.show()"
   ]
  },
  {
   "cell_type": "code",
   "execution_count": 16,
   "id": "816b175b",
   "metadata": {},
   "outputs": [
    {
     "data": {
      "image/png": "[encoded data removed]",
      "text/plain": [
       "<Figure size 800x400 with 1 Axes>"
      ]
     },
     "metadata": {},
     "output_type": "display_data"
    }
   ],
   "source": [
    "df[\"day_of_week\"] = df[\"date\"].dt.day_name()\n",
    "weekly_sales = df.groupby(\"day_of_week\")[\"amount\"].sum().reindex(\n",
    "    [\"Monday\", \"Tuesday\", \"Wednesday\", \"Thursday\", \"Friday\", \"Saturday\", \"Sunday\"]\n",
    ")\n",
    "\n",
    "plt.figure(figsize=(8,4))\n",
    "weekly_sales.plot(kind=\"bar\", color=\"orange\")\n",
    "plt.title(\"Sales by Day of Week\")\n",
    "plt.ylabel(\"Total Revenue (INR)\")\n",
    "plt.xticks(rotation=45)\n",
    "plt.show()"
   ]
  },
  {
   "cell_type": "markdown",
   "id": "310a989a",
   "metadata": {},
   "source": [
    "Fullfilment and channel analysis"
   ]
  },
  {
   "cell_type": "code",
   "execution_count": 17,
   "id": "b0ddf235",
   "metadata": {},
   "outputs": [
    {
     "name": "stdout",
     "output_type": "stream",
     "text": [
      "  fulfilment  total_revenue  total_orders  avg_order_value\n",
      "0     Amazon    50821337.00         83890       650.305016\n",
      "1   Merchant    22486873.87         36311       648.822029\n"
     ]
    }
   ],
   "source": [
    "# Group by Fulfillment method\n",
    "fulfillment_perf = df.groupby(\"fulfilment\").agg(\n",
    "    total_revenue=(\"amount\", \"sum\"),\n",
    "    total_orders=(\"order_id\", \"count\"),\n",
    "    avg_order_value=(\"amount\", \"mean\")\n",
    ").reset_index()\n",
    "\n",
    "print(fulfillment_perf)"
   ]
  },
  {
   "cell_type": "code",
   "execution_count": 18,
   "id": "cb7f358f",
   "metadata": {},
   "outputs": [
    {
     "data": {
      "image/png": "[encoded data removed]",
      "text/plain": [
       "<Figure size 800x500 with 1 Axes>"
      ]
     },
     "metadata": {},
     "output_type": "display_data"
    }
   ],
   "source": [
    "plt.figure(figsize=(8,5))\n",
    "plt.bar(fulfillment_perf[\"fulfilment\"], fulfillment_perf[\"total_revenue\"], color=['#4CAF50', '#2196F3'])\n",
    "plt.title(\"Total Revenue by Fulfillment Method\")\n",
    "plt.xlabel(\"Fulfillment Method\")\n",
    "plt.ylabel(\"Revenue (INR)\")\n",
    "plt.show()"
   ]
  },
  {
   "cell_type": "code",
   "execution_count": 19,
   "id": "c7b2b757",
   "metadata": {},
   "outputs": [
    {
     "data": {
      "image/png": "[encoded data removed]",
      "text/plain": [
       "<Figure size 800x400 with 1 Axes>"
      ]
     },
     "metadata": {},
     "output_type": "display_data"
    }
   ],
   "source": [
    "channel_perf = df.groupby(\"sales_channel\")[\"amount\"].sum().sort_values(ascending=False)\n",
    "\n",
    "plt.figure(figsize=(8,4))\n",
    "channel_perf.plot(kind=\"bar\", color=\"teal\")\n",
    "plt.title(\"Sales by Channel\")\n",
    "plt.xlabel(\"Sales Channel\")\n",
    "plt.ylabel(\"Total Revenue (INR)\")\n",
    "plt.xticks(rotation=45)\n",
    "plt.show()"
   ]
  },
  {
   "cell_type": "markdown",
   "id": "defd9e6f",
   "metadata": {},
   "source": [
    "we can also compare shipping types:\n"
   ]
  },
  {
   "cell_type": "code",
   "execution_count": 20,
   "id": "ba05ff6b",
   "metadata": {},
   "outputs": [
    {
     "data": {
      "image/png": "[encoded data removed]",
      "text/plain": [
       "<Figure size 800x400 with 1 Axes>"
      ]
     },
     "metadata": {},
     "output_type": "display_data"
    }
   ],
   "source": [
    "\n",
    "ship_perf = df.groupby(\"ship_service_level\")[\"amount\"].sum().sort_values(ascending=False)\n",
    "\n",
    "plt.figure(figsize=(8,4))\n",
    "ship_perf.plot(kind=\"bar\", color=\"purple\")\n",
    "plt.title(\"Sales by Shipping Service Level\")\n",
    "plt.xlabel(\"Shipping Type\")\n",
    "plt.ylabel(\"Revenue (INR)\")\n",
    "plt.xticks(rotation=45)\n",
    "plt.show()"
   ]
  },
  {
   "cell_type": "code",
   "execution_count": 22,
   "id": "8a8cef6c",
   "metadata": {},
   "outputs": [
    {
     "name": "stdout",
     "output_type": "stream",
     "text": [
      "📦 Total Orders: 120201\n",
      "❌ Cancellation Rate: 14.28%\n",
      "✅ Delivery Rate: 22.06%\n"
     ]
    }
   ],
   "source": [
    "# Total Orders\n",
    "total_orders = len(df)\n",
    "\n",
    "# Cancellation Rate\n",
    "cancelled = df[df[\"status\"].str.contains(\"Cancelled\", case=False, na=False)]\n",
    "cancel_rate = len(cancelled) / total_orders * 100\n",
    "\n",
    "# Delivered Orders\n",
    "delivered = df[df[\"status\"].str.contains(\"Delivered\", case=False, na=False)]\n",
    "delivery_rate = len(delivered) / total_orders * 100\n",
    "\n",
    "print(f\"📦 Total Orders: {total_orders}\")\n",
    "print(f\"❌ Cancellation Rate: {cancel_rate:.2f}%\")\n",
    "print(f\"✅ Delivery Rate: {delivery_rate:.2f}%\")"
   ]
  },
  {
   "cell_type": "code",
   "execution_count": 23,
   "id": "f979dc31",
   "metadata": {},
   "outputs": [
    {
     "data": {
      "image/png": "[encoded data removed]",
      "text/plain": [
       "<Figure size 600x600 with 1 Axes>"
      ]
     },
     "metadata": {},
     "output_type": "display_data"
    }
   ],
   "source": [
    "status_counts = df[\"status\"].value_counts()\n",
    "\n",
    "plt.figure(figsize=(6,6))\n",
    "plt.pie(status_counts, labels=status_counts.index, autopct='%1.1f%%', startangle=90)\n",
    "plt.title(\"Order Status Distribution\")\n",
    "plt.show()"
   ]
  },
  {
   "cell_type": "code",
   "execution_count": 24,
   "id": "b2c62565",
   "metadata": {},
   "outputs": [
    {
     "data": {
      "image/png": "[encoded data removed]",
      "text/plain": [
       "<Figure size 600x400 with 1 Axes>"
      ]
     },
     "metadata": {},
     "output_type": "display_data"
    }
   ],
   "source": [
    "cancel_by_fulfillment = df[df[\"status\"].str.contains(\"Cancelled\", case=False, na=False)] \\\n",
    "                        .groupby(\"fulfilment\")[\"order_id\"].count()\n",
    "\n",
    "plt.figure(figsize=(6,4))\n",
    "cancel_by_fulfillment.plot(kind=\"bar\", color=\"coral\")\n",
    "plt.title(\"Cancellations by Fulfillment Method\")\n",
    "plt.ylabel(\"Number of Cancellations\")\n",
    "plt.show()"
   ]
  },
  {
   "cell_type": "markdown",
   "id": "58d7de78",
   "metadata": {},
   "source": [
    "customer and geographical insights"
   ]
  },
  {
   "cell_type": "code",
   "execution_count": 32,
   "id": "61bd2dee",
   "metadata": {},
   "outputs": [
    {
     "data": {
      "application/vnd.microsoft.datawrangler.viewer.v0+json": {
       "columns": [
        {
         "name": "index",
         "rawType": "int64",
         "type": "integer"
        },
        {
         "name": "ship_city",
         "rawType": "object",
         "type": "string"
        },
        {
         "name": "total_orders",
         "rawType": "int64",
         "type": "integer"
        },
        {
         "name": "total_spend",
         "rawType": "float64",
         "type": "float"
        },
        {
         "name": "avg_order_value",
         "rawType": "float64",
         "type": "float"
        }
       ],
       "ref": "cd040fb0-731d-4dd2-9a46-d0742e9d2934",
       "rows": [
        [
         "0",
         "(Chikmagalur Disterict).     (N.R Pur Thaluku)",
         "1",
         "389.0",
         "389.0"
        ],
        [
         "1",
         "(Via Cuncolim)Quepem,South Goa",
         "1",
         "1163.0",
         "1163.0"
        ],
        [
         "2",
         ",Hyderabad",
         "1",
         "563.0",
         "563.0"
        ],
        [
         "3",
         ",Raibarely Road Faizabad (Ayodhya)",
         "1",
         "1122.0",
         "1122.0"
        ],
        [
         "4",
         "..Katra",
         "1",
         "641.0",
         "641.0"
        ]
       ],
       "shape": {
        "columns": 4,
        "rows": 5
       }
      },
      "text/html": [
       "<div>\n",
       "<style scoped>\n",
       "    .dataframe tbody tr th:only-of-type {\n",
       "        vertical-align: middle;\n",
       "    }\n",
       "\n",
       "    .dataframe tbody tr th {\n",
       "        vertical-align: top;\n",
       "    }\n",
       "\n",
       "    .dataframe thead th {\n",
       "        text-align: right;\n",
       "    }\n",
       "</style>\n",
       "<table border=\"1\" class=\"dataframe\">\n",
       "  <thead>\n",
       "    <tr style=\"text-align: right;\">\n",
       "      <th></th>\n",
       "      <th>ship_city</th>\n",
       "      <th>total_orders</th>\n",
       "      <th>total_spend</th>\n",
       "      <th>avg_order_value</th>\n",
       "    </tr>\n",
       "  </thead>\n",
       "  <tbody>\n",
       "    <tr>\n",
       "      <th>0</th>\n",
       "      <td>(Chikmagalur Disterict).     (N.R Pur Thaluku)</td>\n",
       "      <td>1</td>\n",
       "      <td>389.0</td>\n",
       "      <td>389.0</td>\n",
       "    </tr>\n",
       "    <tr>\n",
       "      <th>1</th>\n",
       "      <td>(Via Cuncolim)Quepem,South Goa</td>\n",
       "      <td>1</td>\n",
       "      <td>1163.0</td>\n",
       "      <td>1163.0</td>\n",
       "    </tr>\n",
       "    <tr>\n",
       "      <th>2</th>\n",
       "      <td>,Hyderabad</td>\n",
       "      <td>1</td>\n",
       "      <td>563.0</td>\n",
       "      <td>563.0</td>\n",
       "    </tr>\n",
       "    <tr>\n",
       "      <th>3</th>\n",
       "      <td>,Raibarely Road Faizabad (Ayodhya)</td>\n",
       "      <td>1</td>\n",
       "      <td>1122.0</td>\n",
       "      <td>1122.0</td>\n",
       "    </tr>\n",
       "    <tr>\n",
       "      <th>4</th>\n",
       "      <td>..Katra</td>\n",
       "      <td>1</td>\n",
       "      <td>641.0</td>\n",
       "      <td>641.0</td>\n",
       "    </tr>\n",
       "  </tbody>\n",
       "</table>\n",
       "</div>"
      ],
      "text/plain": [
       "                                        ship_city  total_orders  total_spend  \\\n",
       "0  (Chikmagalur Disterict).     (N.R Pur Thaluku)             1        389.0   \n",
       "1                  (Via Cuncolim)Quepem,South Goa             1       1163.0   \n",
       "2                                      ,Hyderabad             1        563.0   \n",
       "3              ,Raibarely Road Faizabad (Ayodhya)             1       1122.0   \n",
       "4                                         ..Katra             1        641.0   \n",
       "\n",
       "   avg_order_value  \n",
       "0            389.0  \n",
       "1           1163.0  \n",
       "2            563.0  \n",
       "3           1122.0  \n",
       "4            641.0  "
      ]
     },
     "execution_count": 32,
     "metadata": {},
     "output_type": "execute_result"
    }
   ],
   "source": [
    "# Group by Customer ID (replace with correct column if available)\n",
    "customer_summary = df.groupby(\"ship_city\").agg(\n",
    "    total_orders=(\"order_id\", \"count\"),\n",
    "    total_spend=(\"amount\", \"sum\"),\n",
    "    avg_order_value=(\"amount\", \"mean\")\n",
    ").reset_index()\n",
    "\n",
    "customer_summary.head()"
   ]
  },
  {
   "cell_type": "code",
   "execution_count": 31,
   "id": "9881234c",
   "metadata": {},
   "outputs": [
    {
     "name": "stdout",
     "output_type": "stream",
     "text": [
      "['index', 'order_id', 'date', 'status', 'fulfilment', 'sales_channel', 'ship_service_level', 'category', 'size', 'courier_status', 'qty', 'currency', 'amount', 'ship_city', 'ship_state', 'ship_postal_code', 'ship_country', 'b2b', 'fulfilled_by', 'new', 'pendings', 'day_of_week']\n"
     ]
    }
   ],
   "source": [
    "print(df.columns.tolist())\n"
   ]
  },
  {
   "cell_type": "code",
   "execution_count": 33,
   "id": "7123f3c4",
   "metadata": {},
   "outputs": [
    {
     "data": {
      "image/png": "[encoded data removed]",
      "text/plain": [
       "<Figure size 600x400 with 1 Axes>"
      ]
     },
     "metadata": {},
     "output_type": "display_data"
    }
   ],
   "source": [
    "def segment(spend):\n",
    "    if spend > 10000:\n",
    "        return \"High Value\"\n",
    "    elif spend > 5000:\n",
    "        return \"Medium Value\"\n",
    "    else:\n",
    "        return \"Low Value\"\n",
    "\n",
    "customer_summary[\"Segment\"] = customer_summary[\"total_spend\"].apply(segment)\n",
    "\n",
    "customer_summary[\"Segment\"].value_counts()\n",
    "\n",
    "plt.figure(figsize=(6,4))\n",
    "customer_summary[\"Segment\"].value_counts().plot(kind=\"bar\", color=[\"#66bb6a\",\"#ffa726\",\"#ef5350\"])\n",
    "plt.title(\"Customer Segments by Spend Level\")\n",
    "plt.xlabel(\"Segment\")\n",
    "plt.ylabel(\"Number of Customers\")\n",
    "plt.show()"
   ]
  },
  {
   "cell_type": "code",
   "execution_count": 38,
   "id": "07818fbb",
   "metadata": {},
   "outputs": [
    {
     "data": {
      "image/png": "[encoded data removed]",
      "text/plain": [
       "<Figure size 1000x500 with 1 Axes>"
      ]
     },
     "metadata": {},
     "output_type": "display_data"
    },
    {
     "data": {
      "image/png": "[encoded data removed]",
      "text/plain": [
       "<Figure size 1000x500 with 1 Axes>"
      ]
     },
     "metadata": {},
     "output_type": "display_data"
    }
   ],
   "source": [
    "state_sales = df.groupby(\"ship_state\")[\"amount\"].sum().sort_values(ascending=False)\n",
    "\n",
    "plt.figure(figsize=(10,5))\n",
    "state_sales.plot(kind=\"bar\", color=\"royalblue\")\n",
    "plt.title(\"Total Revenue by State\")\n",
    "plt.xlabel(\"State\")\n",
    "plt.ylabel(\"Total Revenue (INR)\")\n",
    "plt.xticks(rotation=45)\n",
    "plt.show()\n",
    "\n",
    "# Revenue by City\n",
    "city_sales = df.groupby(\"ship_city\")[\"amount\"].sum().sort_values(ascending=False).head(10)\n",
    "\n",
    "plt.figure(figsize=(10,5))\n",
    "city_sales.plot(kind=\"bar\", color=\"mediumseagreen\")\n",
    "plt.title(\"Top 10 Cities by Revenue\")\n",
    "plt.xlabel(\"City\")\n",
    "plt.ylabel(\"Total Revenue (INR)\")\n",
    "plt.xticks(rotation=45)\n",
    "plt.show()"
   ]
  },
  {
   "cell_type": "code",
   "execution_count": 45,
   "id": "18242b59",
   "metadata": {},
   "outputs": [
    {
     "name": "stderr",
     "output_type": "stream",
     "text": [
      "C:\\Users\\DELL\\AppData\\Local\\Temp\\ipykernel_2144\\3873401367.py:4: FutureWarning: 'M' is deprecated and will be removed in a future version, please use 'ME' instead.\n",
      "  monthly_state = df.groupby([pd.Grouper(key=\"date\", freq=\"M\"), \"ship_state\"])[\"amount\"].sum().reset_index()\n"
     ]
    }
   ],
   "source": [
    "# Example: Monthly revenue by state\n",
    "df[\"date\"] = pd.to_datetime(df[\"date\"])\n",
    "\n",
    "monthly_state = df.groupby([pd.Grouper(key=\"date\", freq=\"M\"), \"ship_state\"])[\"amount\"].sum().reset_index()\n"
   ]
  },
  {
   "cell_type": "code",
   "execution_count": 46,
   "id": "bfcc8e68",
   "metadata": {},
   "outputs": [
    {
     "data": {
      "application/vnd.microsoft.datawrangler.viewer.v0+json": {
       "columns": [
        {
         "name": "index",
         "rawType": "object",
         "type": "string"
        },
        {
         "name": "0",
         "rawType": "int64",
         "type": "integer"
        }
       ],
       "ref": "6b73c1fe-aabc-44c5-a4b3-f04e35141210",
       "rows": [
        [
         "index",
         "0"
        ],
        [
         "order_id",
         "0"
        ],
        [
         "date",
         "0"
        ],
        [
         "status",
         "0"
        ],
        [
         "fulfilment",
         "0"
        ],
        [
         "sales_channel",
         "0"
        ],
        [
         "ship_service_level",
         "0"
        ],
        [
         "category",
         "0"
        ],
        [
         "size",
         "0"
        ],
        [
         "courier_status",
         "0"
        ],
        [
         "qty",
         "0"
        ],
        [
         "currency",
         "0"
        ],
        [
         "amount",
         "7393"
        ],
        [
         "ship_city",
         "0"
        ],
        [
         "ship_state",
         "0"
        ],
        [
         "ship_postal_code",
         "0"
        ],
        [
         "ship_country",
         "0"
        ],
        [
         "b2b",
         "0"
        ],
        [
         "fulfilled_by",
         "0"
        ],
        [
         "new",
         "120201"
        ],
        [
         "pendings",
         "120201"
        ],
        [
         "day_of_week",
         "0"
        ],
        [
         "order_date",
         "0"
        ]
       ],
       "shape": {
        "columns": 1,
        "rows": 23
       }
      },
      "text/plain": [
       "index                      0\n",
       "order_id                   0\n",
       "date                       0\n",
       "status                     0\n",
       "fulfilment                 0\n",
       "sales_channel              0\n",
       "ship_service_level         0\n",
       "category                   0\n",
       "size                       0\n",
       "courier_status             0\n",
       "qty                        0\n",
       "currency                   0\n",
       "amount                  7393\n",
       "ship_city                  0\n",
       "ship_state                 0\n",
       "ship_postal_code           0\n",
       "ship_country               0\n",
       "b2b                        0\n",
       "fulfilled_by               0\n",
       "new                   120201\n",
       "pendings              120201\n",
       "day_of_week                0\n",
       "order_date                 0\n",
       "dtype: int64"
      ]
     },
     "execution_count": 46,
     "metadata": {},
     "output_type": "execute_result"
    }
   ],
   "source": [
    "df.isnull().sum()\n"
   ]
  },
  {
   "cell_type": "code",
   "execution_count": 47,
   "id": "14a7a50e",
   "metadata": {},
   "outputs": [
    {
     "data": {
      "text/plain": [
       "np.int64(0)"
      ]
     },
     "execution_count": 47,
     "metadata": {},
     "output_type": "execute_result"
    }
   ],
   "source": [
    "df.duplicated().sum()"
   ]
  },
  {
   "cell_type": "code",
   "execution_count": 48,
   "id": "3a52a58c",
   "metadata": {},
   "outputs": [],
   "source": [
    "df = df.drop_duplicates()"
   ]
  },
  {
   "cell_type": "code",
   "execution_count": 50,
   "id": "a4a91d1e",
   "metadata": {},
   "outputs": [],
   "source": [
    "df = df.dropna(axis=1, how='all')"
   ]
  },
  {
   "cell_type": "code",
   "execution_count": 51,
   "id": "a26b616c",
   "metadata": {},
   "outputs": [],
   "source": [
    "df.to_csv(\"Cleaned_Amazon_Sales.csv\", index=False)\n"
   ]
  },
  {
   "cell_type": "code",
   "execution_count": 52,
   "id": "4b96eb06",
   "metadata": {},
   "outputs": [
    {
     "data": {
      "application/vnd.microsoft.datawrangler.viewer.v0+json": {
       "columns": [
        {
         "name": "index",
         "rawType": "int64",
         "type": "integer"
        },
        {
         "name": "index",
         "rawType": "int64",
         "type": "integer"
        },
        {
         "name": "order_id",
         "rawType": "object",
         "type": "string"
        },
        {
         "name": "date",
         "rawType": "datetime64[ns]",
         "type": "datetime"
        },
        {
         "name": "status",
         "rawType": "object",
         "type": "string"
        },
        {
         "name": "fulfilment",
         "rawType": "object",
         "type": "string"
        },
        {
         "name": "sales_channel",
         "rawType": "object",
         "type": "string"
        },
        {
         "name": "ship_service_level",
         "rawType": "object",
         "type": "string"
        },
        {
         "name": "category",
         "rawType": "object",
         "type": "string"
        },
        {
         "name": "size",
         "rawType": "object",
         "type": "string"
        },
        {
         "name": "courier_status",
         "rawType": "object",
         "type": "string"
        },
        {
         "name": "qty",
         "rawType": "Int64",
         "type": "integer"
        },
        {
         "name": "currency",
         "rawType": "object",
         "type": "string"
        },
        {
         "name": "amount",
         "rawType": "float64",
         "type": "float"
        },
        {
         "name": "ship_city",
         "rawType": "object",
         "type": "string"
        },
        {
         "name": "ship_state",
         "rawType": "object",
         "type": "string"
        },
        {
         "name": "ship_postal_code",
         "rawType": "float64",
         "type": "float"
        },
        {
         "name": "ship_country",
         "rawType": "object",
         "type": "string"
        },
        {
         "name": "b2b",
         "rawType": "bool",
         "type": "boolean"
        },
        {
         "name": "fulfilled_by",
         "rawType": "object",
         "type": "string"
        },
        {
         "name": "day_of_week",
         "rawType": "object",
         "type": "string"
        },
        {
         "name": "order_date",
         "rawType": "datetime64[ns]",
         "type": "datetime"
        }
       ],
       "ref": "bc323a51-d924-456f-921a-26705f2f4496",
       "rows": [
        [
         "0",
         "0",
         "405-8078784-5731545",
         "2022-04-30 00:00:00",
         "Cancelled",
         "Merchant",
         "Amazon.in",
         "Standard",
         "T-shirt",
         "S",
         "On the Way",
         "0",
         "INR",
         "647.62",
         "Mumbai",
         "Maharashtra",
         "400081.0",
         "IN",
         "False",
         "Easy Ship",
         "Saturday",
         "2022-04-30 00:00:00"
        ],
        [
         "1",
         "1",
         "171-9198151-1101146",
         "2022-04-30 00:00:00",
         "Shipped - Delivered to Buyer",
         "Merchant",
         "Amazon.in",
         "Standard",
         "Shirt",
         "3XL",
         "Shipped",
         "1",
         "INR",
         "406.0",
         "Bangalore",
         "Karnataka",
         "560085.0",
         "IN",
         "False",
         "Easy Ship",
         "Saturday",
         "2022-04-30 00:00:00"
        ],
        [
         "2",
         "2",
         "404-0687676-7273146",
         "2022-04-30 00:00:00",
         "Shipped",
         "Amazon",
         "Amazon.in",
         "Expedited",
         "Shirt",
         "XL",
         "Shipped",
         "1",
         "INR",
         "329.0",
         "Navi Mumbai",
         "Maharashtra",
         "410210.0",
         "IN",
         "True",
         "Unknown",
         "Saturday",
         "2022-04-30 00:00:00"
        ],
        [
         "3",
         "3",
         "403-9615377-8133951",
         "2022-04-30 00:00:00",
         "Cancelled",
         "Merchant",
         "Amazon.in",
         "Standard",
         "Blazzer",
         "L",
         "On the Way",
         "0",
         "INR",
         "753.33",
         "Puducherry",
         "Puducherry",
         "605008.0",
         "IN",
         "False",
         "Easy Ship",
         "Saturday",
         "2022-04-30 00:00:00"
        ],
        [
         "4",
         "4",
         "407-1069790-7240320",
         "2022-04-30 00:00:00",
         "Shipped",
         "Amazon",
         "Amazon.in",
         "Expedited",
         "Trousers",
         "3XL",
         "Shipped",
         "1",
         "INR",
         "574.0",
         "Chennai",
         "Tamil Nadu",
         "600073.0",
         "IN",
         "False",
         "Unknown",
         "Saturday",
         "2022-04-30 00:00:00"
        ],
        [
         "5",
         "5",
         "404-1490984-4578765",
         "2022-04-30 00:00:00",
         "Shipped",
         "Amazon",
         "Amazon.in",
         "Expedited",
         "T-shirt",
         "XL",
         "Shipped",
         "1",
         "INR",
         "824.0",
         "Ghaziabad",
         "Uttar Pradesh",
         "201102.0",
         "IN",
         "False",
         "Unknown",
         "Saturday",
         "2022-04-30 00:00:00"
        ],
        [
         "6",
         "6",
         "408-5748499-6859555",
         "2022-04-30 00:00:00",
         "Shipped",
         "Amazon",
         "Amazon.in",
         "Expedited",
         "T-shirt",
         "L",
         "Shipped",
         "1",
         "INR",
         "653.0",
         "Chandigarh",
         "Chandigarh",
         "160036.0",
         "IN",
         "False",
         "Unknown",
         "Saturday",
         "2022-04-30 00:00:00"
        ],
        [
         "7",
         "7",
         "406-7807733-3785945",
         "2022-04-30 00:00:00",
         "Shipped - Delivered to Buyer",
         "Merchant",
         "Amazon.in",
         "Standard",
         "Shirt",
         "S",
         "Shipped",
         "1",
         "INR",
         "399.0",
         "Hyderabad",
         "Telangana",
         "500032.0",
         "IN",
         "False",
         "Easy Ship",
         "Saturday",
         "2022-04-30 00:00:00"
        ],
        [
         "8",
         "8",
         "407-5443024-5233168",
         "2022-04-30 00:00:00",
         "Cancelled",
         "Amazon",
         "Amazon.in",
         "Expedited",
         "T-shirt",
         "3XL",
         "Cancelled",
         "0",
         "INR",
         null,
         "Hyderabad",
         "Telangana",
         "500008.0",
         "IN",
         "False",
         "Unknown",
         "Saturday",
         "2022-04-30 00:00:00"
        ],
        [
         "9",
         "9",
         "402-4393761-0311520",
         "2022-04-30 00:00:00",
         "Shipped",
         "Amazon",
         "Amazon.in",
         "Expedited",
         "Shirt",
         "XXL",
         "Shipped",
         "1",
         "INR",
         "363.0",
         "Chennai",
         "Tamil Nadu",
         "600041.0",
         "IN",
         "False",
         "Unknown",
         "Saturday",
         "2022-04-30 00:00:00"
        ]
       ],
       "shape": {
        "columns": 21,
        "rows": 10
       }
      },
      "text/html": [
       "<div>\n",
       "<style scoped>\n",
       "    .dataframe tbody tr th:only-of-type {\n",
       "        vertical-align: middle;\n",
       "    }\n",
       "\n",
       "    .dataframe tbody tr th {\n",
       "        vertical-align: top;\n",
       "    }\n",
       "\n",
       "    .dataframe thead th {\n",
       "        text-align: right;\n",
       "    }\n",
       "</style>\n",
       "<table border=\"1\" class=\"dataframe\">\n",
       "  <thead>\n",
       "    <tr style=\"text-align: right;\">\n",
       "      <th></th>\n",
       "      <th>index</th>\n",
       "      <th>order_id</th>\n",
       "      <th>date</th>\n",
       "      <th>status</th>\n",
       "      <th>fulfilment</th>\n",
       "      <th>sales_channel</th>\n",
       "      <th>ship_service_level</th>\n",
       "      <th>category</th>\n",
       "      <th>size</th>\n",
       "      <th>courier_status</th>\n",
       "      <th>...</th>\n",
       "      <th>currency</th>\n",
       "      <th>amount</th>\n",
       "      <th>ship_city</th>\n",
       "      <th>ship_state</th>\n",
       "      <th>ship_postal_code</th>\n",
       "      <th>ship_country</th>\n",
       "      <th>b2b</th>\n",
       "      <th>fulfilled_by</th>\n",
       "      <th>day_of_week</th>\n",
       "      <th>order_date</th>\n",
       "    </tr>\n",
       "  </thead>\n",
       "  <tbody>\n",
       "    <tr>\n",
       "      <th>0</th>\n",
       "      <td>0</td>\n",
       "      <td>405-8078784-5731545</td>\n",
       "      <td>2022-04-30</td>\n",
       "      <td>Cancelled</td>\n",
       "      <td>Merchant</td>\n",
       "      <td>Amazon.in</td>\n",
       "      <td>Standard</td>\n",
       "      <td>T-shirt</td>\n",
       "      <td>S</td>\n",
       "      <td>On the Way</td>\n",
       "      <td>...</td>\n",
       "      <td>INR</td>\n",
       "      <td>647.62</td>\n",
       "      <td>Mumbai</td>\n",
       "      <td>Maharashtra</td>\n",
       "      <td>400081.0</td>\n",
       "      <td>IN</td>\n",
       "      <td>False</td>\n",
       "      <td>Easy Ship</td>\n",
       "      <td>Saturday</td>\n",
       "      <td>2022-04-30</td>\n",
       "    </tr>\n",
       "    <tr>\n",
       "      <th>1</th>\n",
       "      <td>1</td>\n",
       "      <td>171-9198151-1101146</td>\n",
       "      <td>2022-04-30</td>\n",
       "      <td>Shipped - Delivered to Buyer</td>\n",
       "      <td>Merchant</td>\n",
       "      <td>Amazon.in</td>\n",
       "      <td>Standard</td>\n",
       "      <td>Shirt</td>\n",
       "      <td>3XL</td>\n",
       "      <td>Shipped</td>\n",
       "      <td>...</td>\n",
       "      <td>INR</td>\n",
       "      <td>406.00</td>\n",
       "      <td>Bangalore</td>\n",
       "      <td>Karnataka</td>\n",
       "      <td>560085.0</td>\n",
       "      <td>IN</td>\n",
       "      <td>False</td>\n",
       "      <td>Easy Ship</td>\n",
       "      <td>Saturday</td>\n",
       "      <td>2022-04-30</td>\n",
       "    </tr>\n",
       "    <tr>\n",
       "      <th>2</th>\n",
       "      <td>2</td>\n",
       "      <td>404-0687676-7273146</td>\n",
       "      <td>2022-04-30</td>\n",
       "      <td>Shipped</td>\n",
       "      <td>Amazon</td>\n",
       "      <td>Amazon.in</td>\n",
       "      <td>Expedited</td>\n",
       "      <td>Shirt</td>\n",
       "      <td>XL</td>\n",
       "      <td>Shipped</td>\n",
       "      <td>...</td>\n",
       "      <td>INR</td>\n",
       "      <td>329.00</td>\n",
       "      <td>Navi Mumbai</td>\n",
       "      <td>Maharashtra</td>\n",
       "      <td>410210.0</td>\n",
       "      <td>IN</td>\n",
       "      <td>True</td>\n",
       "      <td>Unknown</td>\n",
       "      <td>Saturday</td>\n",
       "      <td>2022-04-30</td>\n",
       "    </tr>\n",
       "    <tr>\n",
       "      <th>3</th>\n",
       "      <td>3</td>\n",
       "      <td>403-9615377-8133951</td>\n",
       "      <td>2022-04-30</td>\n",
       "      <td>Cancelled</td>\n",
       "      <td>Merchant</td>\n",
       "      <td>Amazon.in</td>\n",
       "      <td>Standard</td>\n",
       "      <td>Blazzer</td>\n",
       "      <td>L</td>\n",
       "      <td>On the Way</td>\n",
       "      <td>...</td>\n",
       "      <td>INR</td>\n",
       "      <td>753.33</td>\n",
       "      <td>Puducherry</td>\n",
       "      <td>Puducherry</td>\n",
       "      <td>605008.0</td>\n",
       "      <td>IN</td>\n",
       "      <td>False</td>\n",
       "      <td>Easy Ship</td>\n",
       "      <td>Saturday</td>\n",
       "      <td>2022-04-30</td>\n",
       "    </tr>\n",
       "    <tr>\n",
       "      <th>4</th>\n",
       "      <td>4</td>\n",
       "      <td>407-1069790-7240320</td>\n",
       "      <td>2022-04-30</td>\n",
       "      <td>Shipped</td>\n",
       "      <td>Amazon</td>\n",
       "      <td>Amazon.in</td>\n",
       "      <td>Expedited</td>\n",
       "      <td>Trousers</td>\n",
       "      <td>3XL</td>\n",
       "      <td>Shipped</td>\n",
       "      <td>...</td>\n",
       "      <td>INR</td>\n",
       "      <td>574.00</td>\n",
       "      <td>Chennai</td>\n",
       "      <td>Tamil Nadu</td>\n",
       "      <td>600073.0</td>\n",
       "      <td>IN</td>\n",
       "      <td>False</td>\n",
       "      <td>Unknown</td>\n",
       "      <td>Saturday</td>\n",
       "      <td>2022-04-30</td>\n",
       "    </tr>\n",
       "    <tr>\n",
       "      <th>5</th>\n",
       "      <td>5</td>\n",
       "      <td>404-1490984-4578765</td>\n",
       "      <td>2022-04-30</td>\n",
       "      <td>Shipped</td>\n",
       "      <td>Amazon</td>\n",
       "      <td>Amazon.in</td>\n",
       "      <td>Expedited</td>\n",
       "      <td>T-shirt</td>\n",
       "      <td>XL</td>\n",
       "      <td>Shipped</td>\n",
       "      <td>...</td>\n",
       "      <td>INR</td>\n",
       "      <td>824.00</td>\n",
       "      <td>Ghaziabad</td>\n",
       "      <td>Uttar Pradesh</td>\n",
       "      <td>201102.0</td>\n",
       "      <td>IN</td>\n",
       "      <td>False</td>\n",
       "      <td>Unknown</td>\n",
       "      <td>Saturday</td>\n",
       "      <td>2022-04-30</td>\n",
       "    </tr>\n",
       "    <tr>\n",
       "      <th>6</th>\n",
       "      <td>6</td>\n",
       "      <td>408-5748499-6859555</td>\n",
       "      <td>2022-04-30</td>\n",
       "      <td>Shipped</td>\n",
       "      <td>Amazon</td>\n",
       "      <td>Amazon.in</td>\n",
       "      <td>Expedited</td>\n",
       "      <td>T-shirt</td>\n",
       "      <td>L</td>\n",
       "      <td>Shipped</td>\n",
       "      <td>...</td>\n",
       "      <td>INR</td>\n",
       "      <td>653.00</td>\n",
       "      <td>Chandigarh</td>\n",
       "      <td>Chandigarh</td>\n",
       "      <td>160036.0</td>\n",
       "      <td>IN</td>\n",
       "      <td>False</td>\n",
       "      <td>Unknown</td>\n",
       "      <td>Saturday</td>\n",
       "      <td>2022-04-30</td>\n",
       "    </tr>\n",
       "    <tr>\n",
       "      <th>7</th>\n",
       "      <td>7</td>\n",
       "      <td>406-7807733-3785945</td>\n",
       "      <td>2022-04-30</td>\n",
       "      <td>Shipped - Delivered to Buyer</td>\n",
       "      <td>Merchant</td>\n",
       "      <td>Amazon.in</td>\n",
       "      <td>Standard</td>\n",
       "      <td>Shirt</td>\n",
       "      <td>S</td>\n",
       "      <td>Shipped</td>\n",
       "      <td>...</td>\n",
       "      <td>INR</td>\n",
       "      <td>399.00</td>\n",
       "      <td>Hyderabad</td>\n",
       "      <td>Telangana</td>\n",
       "      <td>500032.0</td>\n",
       "      <td>IN</td>\n",
       "      <td>False</td>\n",
       "      <td>Easy Ship</td>\n",
       "      <td>Saturday</td>\n",
       "      <td>2022-04-30</td>\n",
       "    </tr>\n",
       "    <tr>\n",
       "      <th>8</th>\n",
       "      <td>8</td>\n",
       "      <td>407-5443024-5233168</td>\n",
       "      <td>2022-04-30</td>\n",
       "      <td>Cancelled</td>\n",
       "      <td>Amazon</td>\n",
       "      <td>Amazon.in</td>\n",
       "      <td>Expedited</td>\n",
       "      <td>T-shirt</td>\n",
       "      <td>3XL</td>\n",
       "      <td>Cancelled</td>\n",
       "      <td>...</td>\n",
       "      <td>INR</td>\n",
       "      <td>NaN</td>\n",
       "      <td>Hyderabad</td>\n",
       "      <td>Telangana</td>\n",
       "      <td>500008.0</td>\n",
       "      <td>IN</td>\n",
       "      <td>False</td>\n",
       "      <td>Unknown</td>\n",
       "      <td>Saturday</td>\n",
       "      <td>2022-04-30</td>\n",
       "    </tr>\n",
       "    <tr>\n",
       "      <th>9</th>\n",
       "      <td>9</td>\n",
       "      <td>402-4393761-0311520</td>\n",
       "      <td>2022-04-30</td>\n",
       "      <td>Shipped</td>\n",
       "      <td>Amazon</td>\n",
       "      <td>Amazon.in</td>\n",
       "      <td>Expedited</td>\n",
       "      <td>Shirt</td>\n",
       "      <td>XXL</td>\n",
       "      <td>Shipped</td>\n",
       "      <td>...</td>\n",
       "      <td>INR</td>\n",
       "      <td>363.00</td>\n",
       "      <td>Chennai</td>\n",
       "      <td>Tamil Nadu</td>\n",
       "      <td>600041.0</td>\n",
       "      <td>IN</td>\n",
       "      <td>False</td>\n",
       "      <td>Unknown</td>\n",
       "      <td>Saturday</td>\n",
       "      <td>2022-04-30</td>\n",
       "    </tr>\n",
       "  </tbody>\n",
       "</table>\n",
       "<p>10 rows × 21 columns</p>\n",
       "</div>"
      ],
      "text/plain": [
       "   index             order_id       date                        status  \\\n",
       "0      0  405-8078784-5731545 2022-04-30                     Cancelled   \n",
       "1      1  171-9198151-1101146 2022-04-30  Shipped - Delivered to Buyer   \n",
       "2      2  404-0687676-7273146 2022-04-30                       Shipped   \n",
       "3      3  403-9615377-8133951 2022-04-30                     Cancelled   \n",
       "4      4  407-1069790-7240320 2022-04-30                       Shipped   \n",
       "5      5  404-1490984-4578765 2022-04-30                       Shipped   \n",
       "6      6  408-5748499-6859555 2022-04-30                       Shipped   \n",
       "7      7  406-7807733-3785945 2022-04-30  Shipped - Delivered to Buyer   \n",
       "8      8  407-5443024-5233168 2022-04-30                     Cancelled   \n",
       "9      9  402-4393761-0311520 2022-04-30                       Shipped   \n",
       "\n",
       "  fulfilment sales_channel ship_service_level  category size courier_status  \\\n",
       "0   Merchant     Amazon.in           Standard   T-shirt    S     On the Way   \n",
       "1   Merchant     Amazon.in           Standard     Shirt  3XL        Shipped   \n",
       "2     Amazon     Amazon.in          Expedited     Shirt   XL        Shipped   \n",
       "3   Merchant     Amazon.in           Standard   Blazzer    L     On the Way   \n",
       "4     Amazon     Amazon.in          Expedited  Trousers  3XL        Shipped   \n",
       "5     Amazon     Amazon.in          Expedited   T-shirt   XL        Shipped   \n",
       "6     Amazon     Amazon.in          Expedited   T-shirt    L        Shipped   \n",
       "7   Merchant     Amazon.in           Standard     Shirt    S        Shipped   \n",
       "8     Amazon     Amazon.in          Expedited   T-shirt  3XL      Cancelled   \n",
       "9     Amazon     Amazon.in          Expedited     Shirt  XXL        Shipped   \n",
       "\n",
       "   ...  currency  amount    ship_city     ship_state ship_postal_code  \\\n",
       "0  ...       INR  647.62       Mumbai    Maharashtra         400081.0   \n",
       "1  ...       INR  406.00    Bangalore      Karnataka         560085.0   \n",
       "2  ...       INR  329.00  Navi Mumbai    Maharashtra         410210.0   \n",
       "3  ...       INR  753.33   Puducherry     Puducherry         605008.0   \n",
       "4  ...       INR  574.00      Chennai     Tamil Nadu         600073.0   \n",
       "5  ...       INR  824.00    Ghaziabad  Uttar Pradesh         201102.0   \n",
       "6  ...       INR  653.00   Chandigarh     Chandigarh         160036.0   \n",
       "7  ...       INR  399.00    Hyderabad      Telangana         500032.0   \n",
       "8  ...       INR     NaN    Hyderabad      Telangana         500008.0   \n",
       "9  ...       INR  363.00      Chennai     Tamil Nadu         600041.0   \n",
       "\n",
       "   ship_country    b2b  fulfilled_by day_of_week order_date  \n",
       "0            IN  False     Easy Ship    Saturday 2022-04-30  \n",
       "1            IN  False     Easy Ship    Saturday 2022-04-30  \n",
       "2            IN   True       Unknown    Saturday 2022-04-30  \n",
       "3            IN  False     Easy Ship    Saturday 2022-04-30  \n",
       "4            IN  False       Unknown    Saturday 2022-04-30  \n",
       "5            IN  False       Unknown    Saturday 2022-04-30  \n",
       "6            IN  False       Unknown    Saturday 2022-04-30  \n",
       "7            IN  False     Easy Ship    Saturday 2022-04-30  \n",
       "8            IN  False       Unknown    Saturday 2022-04-30  \n",
       "9            IN  False       Unknown    Saturday 2022-04-30  \n",
       "\n",
       "[10 rows x 21 columns]"
      ]
     },
     "execution_count": 52,
     "metadata": {},
     "output_type": "execute_result"
    }
   ],
   "source": [
    "df.head(10)"
   ]
  }
 ],
 "metadata": {
  "kernelspec": {
   "display_name": "base",
   "language": "python",
   "name": "python3"
  },
  "language_info": {
   "codemirror_mode": {
    "name": "ipython",
    "version": 3
   },
   "file_extension": ".py",
   "mimetype": "text/x-python",
   "name": "python",
   "nbconvert_exporter": "python",
   "pygments_lexer": "ipython3",
   "version": "3.13.5"
  }
 },
 "nbformat": 4,
 "nbformat_minor": 5
}
